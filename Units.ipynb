{
 "cells": [
  {
   "cell_type": "code",
   "execution_count": 11,
   "metadata": {},
   "outputs": [
    {
     "data": {
      "text/plain": [
       "'def decdeg2dms(dd):\\n    is_positive = dd >= 0\\n    dd = abs(dd)\\n    minutes,seconds = divmod(dd*3600,60)\\n    degrees,minutes = divmod(minutes,60)\\n    degrees = degrees if is_positive else -degrees\\n    return (degrees,minutes,seconds)'"
      ]
     },
     "execution_count": 11,
     "metadata": {},
     "output_type": "execute_result"
    }
   ],
   "source": [
    "def deg2HMS(ra='', dec='', round=False):\n",
    "    RA, DEC, rs, ds = '', '', '', ''\n",
    "    if dec:\n",
    "        if str(dec)[0] == '-':\n",
    "            ds, dec = '-', abs(dec)\n",
    "        deg = int(dec)\n",
    "        decM = abs(int((dec-deg)*60))\n",
    "        if round:\n",
    "            decS = int((abs((dec-deg)*60)-decM)*60)\n",
    "        else:\n",
    "            decS = (abs((dec-deg)*60)-decM)*60\n",
    "        DEC = '{0}{1} {2} {3}'.format(ds, deg, decM, decS)\n",
    "  \n",
    "    if ra:\n",
    "        if str(ra)[0] == '-':\n",
    "            rs, ra = '-', abs(ra)\n",
    "        raH = int(ra/15)\n",
    "        raM = int(((ra/15)-raH)*60)\n",
    "        if round:\n",
    "            raS = int(((((ra/15)-raH)*60)-raM)*60)\n",
    "        else:\n",
    "            raS = ((((ra/15)-raH)*60)-raM)*60\n",
    "        RA = '{0}{1} {2} {3}'.format(rs, raH, raM, raS)\n",
    "  \n",
    "    if ra and dec:\n",
    "        return (RA, DEC)\n",
    "    else:\n",
    "        return RA or DEC\n",
    "    \n",
    "'''def decdeg2dms(dd):\n",
    "    is_positive = dd >= 0\n",
    "    dd = abs(dd)\n",
    "    minutes,seconds = divmod(dd*3600,60)\n",
    "    degrees,minutes = divmod(minutes,60)\n",
    "    degrees = degrees if is_positive else -degrees\n",
    "    return (degrees,minutes,seconds)'''"
   ]
  },
  {
   "cell_type": "code",
   "execution_count": null,
   "metadata": {},
   "outputs": [],
   "source": [
    "for i in range(len(new_data)):\n",
    "    RA = new_data['RA'][i]\n",
    "    RA = deg2HMS(ra=RA)\n",
    "    new_data['RA'][i] = RA"
   ]
  },
  {
   "cell_type": "code",
   "execution_count": 13,
   "metadata": {},
   "outputs": [
    {
     "name": "stdout",
     "output_type": "stream",
     "text": [
      "1 30 0.0\n",
      "10 30 0.0\n"
     ]
    }
   ],
   "source": [
    "RA = 22.5\n",
    "RA = deg2HMS(ra=RA)\n",
    "print(RA)\n",
    "\n",
    "Dec = 10.5\n",
    "Dec = deg2HMS(dec=Dec)\n",
    "print(Dec)"
   ]
  },
  {
   "cell_type": "code",
   "execution_count": null,
   "metadata": {},
   "outputs": [],
   "source": []
  }
 ],
 "metadata": {
  "kernelspec": {
   "display_name": "Python 3",
   "language": "python",
   "name": "python3"
  },
  "language_info": {
   "codemirror_mode": {
    "name": "ipython",
    "version": 3
   },
   "file_extension": ".py",
   "mimetype": "text/x-python",
   "name": "python",
   "nbconvert_exporter": "python",
   "pygments_lexer": "ipython3",
   "version": "3.6.8"
  }
 },
 "nbformat": 4,
 "nbformat_minor": 2
}
